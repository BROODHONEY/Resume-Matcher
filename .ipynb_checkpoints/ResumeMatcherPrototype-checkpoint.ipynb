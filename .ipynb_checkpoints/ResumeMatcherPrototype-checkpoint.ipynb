{
 "cells": [
  {
   "cell_type": "code",
   "execution_count": 1,
   "id": "f7589f0c-961f-4640-ac24-6b604be8a4b7",
   "metadata": {},
   "outputs": [],
   "source": [
    "from sentence_transformers import SentenceTransformer\n",
    "from sklearn.metrics.pairwise import cosine_similarity\n",
    "import numpy as np"
   ]
  },
  {
   "cell_type": "markdown",
   "id": "c593da61-2441-4304-9891-600e499731fb",
   "metadata": {},
   "source": [
    "### Load a pre-trained BERT model"
   ]
  },
  {
   "cell_type": "code",
   "execution_count": 2,
   "id": "bc2194d6-f7fb-41fa-8dc9-82051d0007d6",
   "metadata": {},
   "outputs": [],
   "source": [
    "model = SentenceTransformer('all-MiniLM-L6-v2')"
   ]
  },
  {
   "cell_type": "markdown",
   "id": "6b49273f-3024-4617-9940-87db2848fecf",
   "metadata": {},
   "source": [
    "### Resume parsing Functions"
   ]
  },
  {
   "cell_type": "code",
   "execution_count": 3,
   "id": "2ebd52f4-07b2-40a8-965d-c7490d3cd165",
   "metadata": {},
   "outputs": [
    {
     "name": "stdout",
     "output_type": "stream",
     "text": [
      "Requirement already satisfied: pdfplumber in c:\\users\\nande\\desktop\\mlcourse\\resumematcher\\env\\lib\\site-packages (0.11.7)\n",
      "Requirement already satisfied: docx2txt in c:\\users\\nande\\desktop\\mlcourse\\resumematcher\\env\\lib\\site-packages (0.9)\n",
      "Requirement already satisfied: pdfminer.six==20250506 in c:\\users\\nande\\desktop\\mlcourse\\resumematcher\\env\\lib\\site-packages (from pdfplumber) (20250506)\n",
      "Requirement already satisfied: Pillow>=9.1 in c:\\users\\nande\\desktop\\mlcourse\\resumematcher\\env\\lib\\site-packages (from pdfplumber) (11.3.0)\n",
      "Requirement already satisfied: pypdfium2>=4.18.0 in c:\\users\\nande\\desktop\\mlcourse\\resumematcher\\env\\lib\\site-packages (from pdfplumber) (4.30.1)\n",
      "Requirement already satisfied: charset-normalizer>=2.0.0 in c:\\users\\nande\\desktop\\mlcourse\\resumematcher\\env\\lib\\site-packages (from pdfminer.six==20250506->pdfplumber) (3.3.2)\n",
      "Requirement already satisfied: cryptography>=36.0.0 in c:\\users\\nande\\desktop\\mlcourse\\resumematcher\\env\\lib\\site-packages (from pdfminer.six==20250506->pdfplumber) (45.0.5)\n",
      "Requirement already satisfied: cffi>=1.14 in c:\\users\\nande\\desktop\\mlcourse\\resumematcher\\env\\lib\\site-packages (from cryptography>=36.0.0->pdfminer.six==20250506->pdfplumber) (1.17.1)\n",
      "Requirement already satisfied: pycparser in c:\\users\\nande\\desktop\\mlcourse\\resumematcher\\env\\lib\\site-packages (from cffi>=1.14->cryptography>=36.0.0->pdfminer.six==20250506->pdfplumber) (2.21)\n",
      "Note: you may need to restart the kernel to use updated packages.\n"
     ]
    }
   ],
   "source": [
    "%pip install pdfplumber docx2txt"
   ]
  },
  {
   "cell_type": "code",
   "execution_count": 4,
   "id": "8c4503ff-e9a3-454a-9894-87842f0f08fa",
   "metadata": {},
   "outputs": [],
   "source": [
    "import os\n",
    "import pdfplumber\n",
    "import docx2txt"
   ]
  },
  {
   "cell_type": "code",
   "execution_count": 15,
   "id": "af65a860-f652-4243-8a10-908fa0cb7f51",
   "metadata": {},
   "outputs": [],
   "source": [
    "# Extract the text from .pdf files\n",
    "def extract_text_from_pdf(file_path):\n",
    "    text = \"\"\n",
    "    with pdfplumber.open(file_path) as pdf:\n",
    "        for page in pdf.pages:\n",
    "            text += page.extract_text() + \"\\n\"\n",
    "    return text\n",
    "\n",
    "# Extract the text from .doc or .docx files\n",
    "def extract_text_from_docx(file_path):\n",
    "    return docx2txt.process(file_path)\n",
    "\n",
    "# Function to extract the file and return the text\n",
    "def extract_resume_text(file_path):\n",
    "    ext = file_path.split('.')[-1].lower()\n",
    "    if ext == 'pdf':\n",
    "        return extract_text_from_pdf(file_path)\n",
    "    elif ext in ['docx', 'doc']:\n",
    "        return extract_text_from_docx(file_path)\n",
    "    else :\n",
    "        raise ValueError(f\"Unidentified file type ({ext})\")"
   ]
  },
  {
   "cell_type": "markdown",
   "id": "02853a92-8038-4d65-88f9-ccdce7287778",
   "metadata": {},
   "source": [
    "### Sample resume and job description"
   ]
  },
  {
   "cell_type": "code",
   "execution_count": 16,
   "id": "346336f1-77d6-4937-b8fe-419ae97149be",
   "metadata": {},
   "outputs": [],
   "source": [
    "# sample job description\n",
    "job_description = \"\"\"\n",
    "We are seeking a self-driven and passionate Junior Machine Learning Engineer to join our team \n",
    "and contribute to the development of intelligent systems. This role is ideal for a student or \n",
    "early-career professional with a strong foundation in programming and a growing skill set in AI/ML, \n",
    "especially in Deep Learning, Reinforcement Learning, and Computer Vision.\n",
    "\"\"\""
   ]
  },
  {
   "cell_type": "code",
   "execution_count": 17,
   "id": "04655b6c-441e-438a-9cfa-0512555d59ad",
   "metadata": {},
   "outputs": [
    {
     "name": "stdout",
     "output_type": "stream",
     "text": [
      "Failed to process .ipynb_checkpoints: Unidentified file type (ipynb_checkpoints)\n",
      "Document 21.pdf - Length: 2957 characters\n",
      "Document 22.pdf - Length: 1737 characters\n",
      "Document 23.pdf - Length: 1577 characters\n",
      "sample_resume.pdf - Length: 2160 characters\n"
     ]
    }
   ],
   "source": [
    "# Load all resumes from a directory\n",
    "resume_folder = 'resumes/'\n",
    "resume_texts = []\n",
    "resume_files = []\n",
    "\n",
    "# go through the files, extract the text and append it to the list resume_texts\n",
    "for filename in os.listdir(resume_folder):\n",
    "    file_path = os.path.join(resume_folder, filename)\n",
    "    try:\n",
    "        text = extract_resume_text(file_path)\n",
    "        print(f\"{filename} - Length: {len(text.strip())} characters\")\n",
    "\n",
    "        if text.strip():  # Only add non-empty text\n",
    "            resume_texts.append(text)\n",
    "            resume_files.append(filename)\n",
    "        else:\n",
    "            print(f\"{filename} is empty or unreadable.\")\n",
    "    except Exception as e:\n",
    "        print(f\"Failed to process {filename}: {e}\")"
   ]
  },
  {
   "cell_type": "markdown",
   "id": "540e0792-6a2e-4a74-a67a-fecc1dc79b0c",
   "metadata": {},
   "source": [
    "### Encode Resume and Job description into BERT embeddings"
   ]
  },
  {
   "cell_type": "code",
   "execution_count": 18,
   "id": "8415483f-358e-4b15-81f4-5c6dae6976ad",
   "metadata": {},
   "outputs": [],
   "source": [
    "# Encoding the texts into BERT embeddings\n",
    "resume_embeddings = model.encode(resume_texts)\n",
    "jd_embeddings = model.encode([job_description])"
   ]
  },
  {
   "cell_type": "markdown",
   "id": "ea00aab0-7290-4386-ad8a-927a40c8bf40",
   "metadata": {},
   "source": [
    "### Calculate cosine similarities"
   ]
  },
  {
   "cell_type": "markdown",
   "id": "f90aad35-61dd-4371-a06a-4e06e8bb9560",
   "metadata": {},
   "source": [
    "This is to calculate the similarities between the job description and resume"
   ]
  },
  {
   "cell_type": "code",
   "execution_count": 11,
   "id": "d75d0686-55e0-4dba-8728-c16d6f20031e",
   "metadata": {},
   "outputs": [],
   "source": [
    "similarities = cosine_similarity(jd_embeddings, resume_embeddings)[0]"
   ]
  },
  {
   "cell_type": "markdown",
   "id": "91015106-55a9-4854-8604-7c5199385f1e",
   "metadata": {},
   "source": [
    "### Rank Resumes"
   ]
  },
  {
   "cell_type": "code",
   "execution_count": 12,
   "id": "90535e5c-f1c9-4c11-b2ca-9d7dd2b692fe",
   "metadata": {},
   "outputs": [],
   "source": [
    "ranked_indices = np.argsort(similarities)[::-1]"
   ]
  },
  {
   "cell_type": "code",
   "execution_count": 14,
   "id": "b7fc1521-ab01-483e-808c-e2461e1d9b0f",
   "metadata": {},
   "outputs": [
    {
     "name": "stdout",
     "output_type": "stream",
     "text": [
      "Top Resume Matches:\n",
      "\n",
      "🔹 File: sample_resume.pdf\n",
      "   Score: 0.4673\n",
      "--------------------------------------------------------------------------------\n",
      "🔹 File: Document 21.pdf\n",
      "   Score: 0.2689\n",
      "--------------------------------------------------------------------------------\n",
      "🔹 File: Document 22.pdf\n",
      "   Score: 0.2413\n",
      "--------------------------------------------------------------------------------\n",
      "🔹 File: Document 23.pdf\n",
      "   Score: 0.1069\n",
      "--------------------------------------------------------------------------------\n"
     ]
    }
   ],
   "source": [
    "print(\"Top Resume Matches:\\n\")\n",
    "for idx in ranked_indices:\n",
    "    print(f\"🔹 File: {resume_files[idx]}\")\n",
    "    print(f\"   Score: {similarities[idx]:.4f}\")\n",
    "    print(\"-\" * 80)"
   ]
  }
 ],
 "metadata": {
  "kernelspec": {
   "display_name": "Python 3 (ipykernel)",
   "language": "python",
   "name": "python3"
  },
  "language_info": {
   "codemirror_mode": {
    "name": "ipython",
    "version": 3
   },
   "file_extension": ".py",
   "mimetype": "text/x-python",
   "name": "python",
   "nbconvert_exporter": "python",
   "pygments_lexer": "ipython3",
   "version": "3.13.5"
  }
 },
 "nbformat": 4,
 "nbformat_minor": 5
}
